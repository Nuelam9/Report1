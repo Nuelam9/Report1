{
 "cells": [
  {
   "cell_type": "code",
   "execution_count": 40,
   "metadata": {},
   "outputs": [],
   "source": [
    "import os\n",
    "import numpy as np \n",
    "import pandas as pd\n",
    "import sys\n",
    "from multiprocessing import Pool, cpu_count\n",
    "from sklearn.metrics import mean_squared_error\n",
    "from astropy.modeling import models, fitting\n",
    "sys.path.append('../lib/')\n",
    "from utils import get_fits_file\n",
    "from psf_analysis import get_OTF_from_PSF"
   ]
  },
  {
   "cell_type": "markdown",
   "metadata": {},
   "source": [
    "# F606w's FITS analysis"
   ]
  },
  {
   "cell_type": "code",
   "execution_count": 41,
   "metadata": {},
   "outputs": [
    {
     "name": "stdout",
     "output_type": "stream",
     "text": [
      "Filename: ../Data/FITS/hlsp_deep47tuc_hst_acs_47tuc_F606w_v1_drz.fits\n",
      "No.    Name      Ver    Type      Cards   Dimensions   Format\n",
      "  0  PRIMARY       1 PrimaryHDU    7127   (10510, 10403)   float32   \n"
     ]
    }
   ],
   "source": [
    "filepath_data = '../Data/FITS/'\n",
    "wavelen='F606w'\n",
    "# Get images as 2-D numpy array from FITS file of F606w\n",
    "fits_f606, image_f606 = get_fits_file(wavelen=wavelen, fits_path=filepath_data)\n",
    "\n",
    "# info about F606w fits file\n",
    "fits_f606.info()"
   ]
  },
  {
   "cell_type": "code",
   "execution_count": 42,
   "metadata": {},
   "outputs": [
    {
     "name": "stdout",
     "output_type": "stream",
     "text": [
      "0.15048535457778456\n"
     ]
    }
   ],
   "source": [
    "image = image_f606.copy()\n",
    "\n",
    "# Check how many negative values are there\n",
    "print(image[image < 0].size / image.size)\n",
    "\n",
    "# setting to 0 all negative values\n",
    "image[image < 0] = 0"
   ]
  },
  {
   "cell_type": "code",
   "execution_count": 43,
   "metadata": {},
   "outputs": [
    {
     "data": {
      "text/html": [
       "<div>\n",
       "<style scoped>\n",
       "    .dataframe tbody tr th:only-of-type {\n",
       "        vertical-align: middle;\n",
       "    }\n",
       "\n",
       "    .dataframe tbody tr th {\n",
       "        vertical-align: top;\n",
       "    }\n",
       "\n",
       "    .dataframe thead th {\n",
       "        text-align: right;\n",
       "    }\n",
       "</style>\n",
       "<table border=\"1\" class=\"dataframe\">\n",
       "  <thead>\n",
       "    <tr style=\"text-align: right;\">\n",
       "      <th></th>\n",
       "      <th>ID</th>\n",
       "      <th>Xcor</th>\n",
       "      <th>Ycor</th>\n",
       "    </tr>\n",
       "  </thead>\n",
       "  <tbody>\n",
       "    <tr>\n",
       "      <th>0</th>\n",
       "      <td>7873</td>\n",
       "      <td>4703</td>\n",
       "      <td>542</td>\n",
       "    </tr>\n",
       "    <tr>\n",
       "      <th>1</th>\n",
       "      <td>12547</td>\n",
       "      <td>3284</td>\n",
       "      <td>633</td>\n",
       "    </tr>\n",
       "    <tr>\n",
       "      <th>2</th>\n",
       "      <td>13066</td>\n",
       "      <td>4497</td>\n",
       "      <td>644</td>\n",
       "    </tr>\n",
       "    <tr>\n",
       "      <th>3</th>\n",
       "      <td>23114</td>\n",
       "      <td>4082</td>\n",
       "      <td>780</td>\n",
       "    </tr>\n",
       "    <tr>\n",
       "      <th>4</th>\n",
       "      <td>23342</td>\n",
       "      <td>5892</td>\n",
       "      <td>782</td>\n",
       "    </tr>\n",
       "    <tr>\n",
       "      <th>...</th>\n",
       "      <td>...</td>\n",
       "      <td>...</td>\n",
       "      <td>...</td>\n",
       "    </tr>\n",
       "    <tr>\n",
       "      <th>1177</th>\n",
       "      <td>893600</td>\n",
       "      <td>5870</td>\n",
       "      <td>10241</td>\n",
       "    </tr>\n",
       "    <tr>\n",
       "      <th>1178</th>\n",
       "      <td>894495</td>\n",
       "      <td>6753</td>\n",
       "      <td>10257</td>\n",
       "    </tr>\n",
       "    <tr>\n",
       "      <th>1179</th>\n",
       "      <td>897539</td>\n",
       "      <td>7124</td>\n",
       "      <td>10323</td>\n",
       "    </tr>\n",
       "    <tr>\n",
       "      <th>1180</th>\n",
       "      <td>898640</td>\n",
       "      <td>5807</td>\n",
       "      <td>10352</td>\n",
       "    </tr>\n",
       "    <tr>\n",
       "      <th>1181</th>\n",
       "      <td>899809</td>\n",
       "      <td>3590</td>\n",
       "      <td>10388</td>\n",
       "    </tr>\n",
       "  </tbody>\n",
       "</table>\n",
       "<p>1182 rows × 3 columns</p>\n",
       "</div>"
      ],
      "text/plain": [
       "          ID  Xcor   Ycor\n",
       "0       7873  4703    542\n",
       "1      12547  3284    633\n",
       "2      13066  4497    644\n",
       "3      23114  4082    780\n",
       "4      23342  5892    782\n",
       "...      ...   ...    ...\n",
       "1177  893600  5870  10241\n",
       "1178  894495  6753  10257\n",
       "1179  897539  7124  10323\n",
       "1180  898640  5807  10352\n",
       "1181  899809  3590  10388\n",
       "\n",
       "[1182 rows x 3 columns]"
      ]
     },
     "execution_count": 43,
     "metadata": {},
     "output_type": "execute_result"
    }
   ],
   "source": [
    "filepath_results = '../Results/'\n",
    "file = f'ID_coords_image_{wavelen}.csv'\n",
    "df = pd.read_csv(filepath_results+file)\n",
    "df"
   ]
  },
  {
   "cell_type": "code",
   "execution_count": 6,
   "metadata": {},
   "outputs": [
    {
     "data": {
      "text/html": [
       "<div>\n",
       "<style scoped>\n",
       "    .dataframe tbody tr th:only-of-type {\n",
       "        vertical-align: middle;\n",
       "    }\n",
       "\n",
       "    .dataframe tbody tr th {\n",
       "        vertical-align: top;\n",
       "    }\n",
       "\n",
       "    .dataframe thead th {\n",
       "        text-align: right;\n",
       "    }\n",
       "</style>\n",
       "<table border=\"1\" class=\"dataframe\">\n",
       "  <thead>\n",
       "    <tr style=\"text-align: right;\">\n",
       "      <th></th>\n",
       "      <th>ID</th>\n",
       "      <th>Xcor</th>\n",
       "      <th>Ycor</th>\n",
       "    </tr>\n",
       "  </thead>\n",
       "  <tbody>\n",
       "    <tr>\n",
       "      <th>0</th>\n",
       "      <td>7873</td>\n",
       "      <td>4703</td>\n",
       "      <td>542</td>\n",
       "    </tr>\n",
       "    <tr>\n",
       "      <th>1</th>\n",
       "      <td>12547</td>\n",
       "      <td>3284</td>\n",
       "      <td>633</td>\n",
       "    </tr>\n",
       "    <tr>\n",
       "      <th>2</th>\n",
       "      <td>13066</td>\n",
       "      <td>4497</td>\n",
       "      <td>644</td>\n",
       "    </tr>\n",
       "    <tr>\n",
       "      <th>3</th>\n",
       "      <td>23114</td>\n",
       "      <td>4082</td>\n",
       "      <td>780</td>\n",
       "    </tr>\n",
       "    <tr>\n",
       "      <th>4</th>\n",
       "      <td>23342</td>\n",
       "      <td>5892</td>\n",
       "      <td>782</td>\n",
       "    </tr>\n",
       "    <tr>\n",
       "      <th>...</th>\n",
       "      <td>...</td>\n",
       "      <td>...</td>\n",
       "      <td>...</td>\n",
       "    </tr>\n",
       "    <tr>\n",
       "      <th>1177</th>\n",
       "      <td>893600</td>\n",
       "      <td>5870</td>\n",
       "      <td>10241</td>\n",
       "    </tr>\n",
       "    <tr>\n",
       "      <th>1178</th>\n",
       "      <td>894495</td>\n",
       "      <td>6753</td>\n",
       "      <td>10257</td>\n",
       "    </tr>\n",
       "    <tr>\n",
       "      <th>1179</th>\n",
       "      <td>897539</td>\n",
       "      <td>7124</td>\n",
       "      <td>10323</td>\n",
       "    </tr>\n",
       "    <tr>\n",
       "      <th>1180</th>\n",
       "      <td>898640</td>\n",
       "      <td>5807</td>\n",
       "      <td>10352</td>\n",
       "    </tr>\n",
       "    <tr>\n",
       "      <th>1181</th>\n",
       "      <td>899809</td>\n",
       "      <td>3590</td>\n",
       "      <td>10388</td>\n",
       "    </tr>\n",
       "  </tbody>\n",
       "</table>\n",
       "<p>1182 rows × 3 columns</p>\n",
       "</div>"
      ],
      "text/plain": [
       "          ID  Xcor   Ycor\n",
       "0       7873  4703    542\n",
       "1      12547  3284    633\n",
       "2      13066  4497    644\n",
       "3      23114  4082    780\n",
       "4      23342  5892    782\n",
       "...      ...   ...    ...\n",
       "1177  893600  5870  10241\n",
       "1178  894495  6753  10257\n",
       "1179  897539  7124  10323\n",
       "1180  898640  5807  10352\n",
       "1181  899809  3590  10388\n",
       "\n",
       "[1182 rows x 3 columns]"
      ]
     },
     "execution_count": 6,
     "metadata": {},
     "output_type": "execute_result"
    }
   ],
   "source": [
    "filepath_results = '../Results/'\n",
    "file = f'ID_coords_image_{wavelen}.csv'\n",
    "df = pd.read_csv(filepath_results+file)\n",
    "df"
   ]
  },
  {
   "cell_type": "markdown",
   "metadata": {},
   "source": [
    "# Gaussian 2D fitting"
   ]
  },
  {
   "cell_type": "code",
   "execution_count": 7,
   "metadata": {},
   "outputs": [],
   "source": [
    "def get_star_box(ID: int, IDs: np.ndarray = df.to_numpy(),\n",
    "                 img: np.ndarray = image, bb: int = 15, norm=True) -> np.array:\n",
    "    \"\"\"Get the box with the star's maximum intensity at center.\n",
    "\n",
    "    Args:\n",
    "        ID (float): star ID;\n",
    "        IDs (np.ndarray, optional): ID of all isolated stars on the\n",
    "                                    image. Defaults to df.to_numpy().\n",
    "        img (np.ndarray, optional): data from fits file.\n",
    "                                    Defaults to image.\n",
    "        bb (int, optional): half side of the squared box.\n",
    "                            Defaults to 15.\n",
    "\n",
    "    Returns:\n",
    "        np.array: star's box.\n",
    "    \"\"\"\n",
    "    xc, yc = IDs[IDs[:,0] == ID, 1:].flatten()\n",
    "    mat = img.copy() \n",
    "    box = mat[yc - bb:yc + bb, xc - bb: xc + bb]\n",
    "    Ai = np.max(box)\n",
    "    xi = xc - bb + np.where(box == Ai)[1][0]\n",
    "    yi = yc - bb + np.where(box == Ai)[0][0]\n",
    "    \n",
    "    # check if max intensity is at central pixel\n",
    "    if [xc, yc] != [xi, yi]:\n",
    "        box = mat[yi - bb: yi + bb, xi - bb: xi + bb]\n",
    "        xc, yc = xi, yi\n",
    "    \n",
    "    if norm:    \n",
    "        box /= Ai\n",
    "    else:\n",
    "        pass\n",
    "    \n",
    "    return box, xc, yc, Ai"
   ]
  },
  {
   "cell_type": "code",
   "execution_count": 63,
   "metadata": {},
   "outputs": [],
   "source": [
    "def r_squared(y_true, y_pred):\n",
    "    correlation_matrix = np.corrcoef(y_true, y_pred)\n",
    "    correlation_xy = correlation_matrix[0,1]\n",
    "    return correlation_xy ** 2"
   ]
  },
  {
   "cell_type": "code",
   "execution_count": 81,
   "metadata": {},
   "outputs": [],
   "source": [
    "def gauss2d_fitting(ID: int, IDs: np.ndarray = df.to_numpy(),\n",
    "                    img: np.ndarray = image, bb: int = 15) -> np.array:\n",
    "    \"\"\"Compute the Gaussian 2D function of a given star \n",
    "\n",
    "    Args:\n",
    "        ID (float): star ID;\n",
    "        IDs (np.ndarray, optional): ID of all isolated stars on the\n",
    "                                    image. Defaults to df.to_numpy().\n",
    "        img (np.ndarray, optional): data from fits file.\n",
    "                                    Defaults to image.\n",
    "        bb (int, optional): half side of the squared box.\n",
    "                            Defaults to 15.\n",
    "\n",
    "    Returns:\n",
    "        np.array: star's ID, initial guess for the fitting parameters,\n",
    "                  best fit parameters and mse.\n",
    "    \"\"\"    \n",
    "    box, *params = get_star_box(ID)\n",
    "    xc, yc, Ai = params\n",
    "    yp, xp = box.shape \n",
    "    y, x = np.mgrid[:yp, :xp]\n",
    "    \n",
    "    try:\n",
    "        # Fitting\n",
    "        fit = fitting.LevMarLSQFitter()   \n",
    "        fi = models.Gaussian2D(amplitude=1., x_mean=bb, y_mean=bb,\n",
    "                               x_stddev=1., y_stddev=1., theta=0.)\n",
    "        f = fit(fi, x, y, box)\n",
    "        # Best fit parameters\n",
    "        A = f.amplitude[0]\n",
    "        x0 = xc - bb + f.x_mean[0]\n",
    "        y0 = yc - bb + f.y_mean[0]\n",
    "        sigma_x = f.x_stddev[0]\n",
    "        sigma_y = f.y_stddev[0]\n",
    "        theta = f.theta[0]\n",
    "        # Compute the r squared\n",
    "        r2 = r_squared(box, f(x, y))\n",
    "        \n",
    "        return np.array([ID, Ai, xc, yc, A, x0, y0, sigma_x, sigma_y, theta, r2])\n",
    "    except:\n",
    "        return np.array([ID] + [0] * 10)"
   ]
  },
  {
   "cell_type": "code",
   "execution_count": 9,
   "metadata": {},
   "outputs": [],
   "source": [
    "def get_save_results(wavelen, fit_func):\n",
    "    func_name = fit_func.__name__\n",
    "    name = func_name.split('_')[0]\n",
    "    file = f'fit_results_{wavelen}_{name}.csv'\n",
    "    if os.path.isfile(filepath_results + file):\n",
    "        pass\n",
    "    else:\n",
    "        if func_name == 'gauss2d_fitting':\n",
    "            columns = ['ID', 'Ai', 'xi', 'yi', 'A', 'x0','y0',\n",
    "                       'sigma_x', 'sigma_y', 'theta', 'r2']\n",
    "        elif func_name == 'gauss1d_fitting':\n",
    "            columns = ['ID', 'max_int_x', 'max_int_y',\n",
    "                       'var_x', 'var_y', 'r2_x', 'r2_y']\n",
    "        else:\n",
    "            pass   \n",
    "        p = Pool(cpu_count())\n",
    "        res = np.asarray(p.map(fit_func, df.ID.to_numpy()))\n",
    "        p.close()\n",
    "        results = pd.DataFrame(res, columns=columns)\n",
    "        results.to_csv(filepath_results + file, index=False)"
   ]
  },
  {
   "cell_type": "code",
   "execution_count": 12,
   "metadata": {},
   "outputs": [
    {
     "ename": "TypeError",
     "evalue": "get_save_results() missing 1 required positional argument: 'fit_func'",
     "output_type": "error",
     "traceback": [
      "\u001b[1;31m---------------------------------------------------------------------------\u001b[0m",
      "\u001b[1;31mTypeError\u001b[0m                                 Traceback (most recent call last)",
      "\u001b[1;32m<timed eval>\u001b[0m in \u001b[0;36m<module>\u001b[1;34m\u001b[0m\n",
      "\u001b[1;31mTypeError\u001b[0m: get_save_results() missing 1 required positional argument: 'fit_func'"
     ]
    }
   ],
   "source": [
    "%%time\n",
    "\n",
    "\n",
    "get_save_results(wavelen)"
   ]
  },
  {
   "cell_type": "markdown",
   "metadata": {},
   "source": [
    "# F814w's FITS analysis"
   ]
  },
  {
   "cell_type": "code",
   "execution_count": null,
   "metadata": {},
   "outputs": [
    {
     "name": "stdout",
     "output_type": "stream",
     "text": [
      "Filename: ../Data/FITS/hlsp_deep47tuc_hst_acs_47tuc_F814w_v1_drz.fits\n",
      "No.    Name      Ver    Type      Cards   Dimensions   Format\n",
      "  0  PRIMARY       1 PrimaryHDU    7595   (10065, 10395)   float32   \n"
     ]
    }
   ],
   "source": [
    "# Get images as 2-D numpy array from FITS file of F814w\n",
    "wavelen='F814w'\n",
    "fits_f814, image_f814 = get_fits_file(wavelen=wavelen, fits_path=filepath_data)\n",
    "\n",
    "# info about F814w fits file\n",
    "fits_f814.info()"
   ]
  },
  {
   "cell_type": "code",
   "execution_count": null,
   "metadata": {},
   "outputs": [
    {
     "name": "stdout",
     "output_type": "stream",
     "text": [
      "0.15389321980479456\n"
     ]
    }
   ],
   "source": [
    "image = image_f814.copy()\n",
    "\n",
    "# Check how many negative values are there\n",
    "print(image[image < 0].size / image.size)\n",
    "\n",
    "# setting to 0 all negative values\n",
    "image[image < 0] = 0"
   ]
  },
  {
   "cell_type": "code",
   "execution_count": null,
   "metadata": {},
   "outputs": [
    {
     "data": {
      "text/html": [
       "<div>\n",
       "<style scoped>\n",
       "    .dataframe tbody tr th:only-of-type {\n",
       "        vertical-align: middle;\n",
       "    }\n",
       "\n",
       "    .dataframe tbody tr th {\n",
       "        vertical-align: top;\n",
       "    }\n",
       "\n",
       "    .dataframe thead th {\n",
       "        text-align: right;\n",
       "    }\n",
       "</style>\n",
       "<table border=\"1\" class=\"dataframe\">\n",
       "  <thead>\n",
       "    <tr style=\"text-align: right;\">\n",
       "      <th></th>\n",
       "      <th>ID</th>\n",
       "      <th>Xcor</th>\n",
       "      <th>Ycor</th>\n",
       "    </tr>\n",
       "  </thead>\n",
       "  <tbody>\n",
       "    <tr>\n",
       "      <th>0</th>\n",
       "      <td>112180</td>\n",
       "      <td>1826</td>\n",
       "      <td>1596</td>\n",
       "    </tr>\n",
       "    <tr>\n",
       "      <th>1</th>\n",
       "      <td>150411</td>\n",
       "      <td>5172</td>\n",
       "      <td>1919</td>\n",
       "    </tr>\n",
       "    <tr>\n",
       "      <th>2</th>\n",
       "      <td>159371</td>\n",
       "      <td>6412</td>\n",
       "      <td>2006</td>\n",
       "    </tr>\n",
       "    <tr>\n",
       "      <th>3</th>\n",
       "      <td>175660</td>\n",
       "      <td>3590</td>\n",
       "      <td>2174</td>\n",
       "    </tr>\n",
       "    <tr>\n",
       "      <th>4</th>\n",
       "      <td>208655</td>\n",
       "      <td>3586</td>\n",
       "      <td>2547</td>\n",
       "    </tr>\n",
       "    <tr>\n",
       "      <th>5</th>\n",
       "      <td>214729</td>\n",
       "      <td>1864</td>\n",
       "      <td>2624</td>\n",
       "    </tr>\n",
       "    <tr>\n",
       "      <th>6</th>\n",
       "      <td>238668</td>\n",
       "      <td>8398</td>\n",
       "      <td>2856</td>\n",
       "    </tr>\n",
       "    <tr>\n",
       "      <th>7</th>\n",
       "      <td>271927</td>\n",
       "      <td>5179</td>\n",
       "      <td>3193</td>\n",
       "    </tr>\n",
       "    <tr>\n",
       "      <th>8</th>\n",
       "      <td>281175</td>\n",
       "      <td>1143</td>\n",
       "      <td>3299</td>\n",
       "    </tr>\n",
       "    <tr>\n",
       "      <th>9</th>\n",
       "      <td>372885</td>\n",
       "      <td>4819</td>\n",
       "      <td>4542</td>\n",
       "    </tr>\n",
       "    <tr>\n",
       "      <th>10</th>\n",
       "      <td>388118</td>\n",
       "      <td>7826</td>\n",
       "      <td>4714</td>\n",
       "    </tr>\n",
       "    <tr>\n",
       "      <th>11</th>\n",
       "      <td>409181</td>\n",
       "      <td>2680</td>\n",
       "      <td>4939</td>\n",
       "    </tr>\n",
       "    <tr>\n",
       "      <th>12</th>\n",
       "      <td>414465</td>\n",
       "      <td>4667</td>\n",
       "      <td>5001</td>\n",
       "    </tr>\n",
       "    <tr>\n",
       "      <th>13</th>\n",
       "      <td>415192</td>\n",
       "      <td>2391</td>\n",
       "      <td>5010</td>\n",
       "    </tr>\n",
       "    <tr>\n",
       "      <th>14</th>\n",
       "      <td>433337</td>\n",
       "      <td>5855</td>\n",
       "      <td>5233</td>\n",
       "    </tr>\n",
       "    <tr>\n",
       "      <th>15</th>\n",
       "      <td>436587</td>\n",
       "      <td>8728</td>\n",
       "      <td>5270</td>\n",
       "    </tr>\n",
       "    <tr>\n",
       "      <th>16</th>\n",
       "      <td>440812</td>\n",
       "      <td>6041</td>\n",
       "      <td>5319</td>\n",
       "    </tr>\n",
       "    <tr>\n",
       "      <th>17</th>\n",
       "      <td>484699</td>\n",
       "      <td>3576</td>\n",
       "      <td>5844</td>\n",
       "    </tr>\n",
       "    <tr>\n",
       "      <th>18</th>\n",
       "      <td>485924</td>\n",
       "      <td>8895</td>\n",
       "      <td>5856</td>\n",
       "    </tr>\n",
       "    <tr>\n",
       "      <th>19</th>\n",
       "      <td>518682</td>\n",
       "      <td>7668</td>\n",
       "      <td>6268</td>\n",
       "    </tr>\n",
       "    <tr>\n",
       "      <th>20</th>\n",
       "      <td>532654</td>\n",
       "      <td>3805</td>\n",
       "      <td>6447</td>\n",
       "    </tr>\n",
       "    <tr>\n",
       "      <th>21</th>\n",
       "      <td>597735</td>\n",
       "      <td>8051</td>\n",
       "      <td>7248</td>\n",
       "    </tr>\n",
       "    <tr>\n",
       "      <th>22</th>\n",
       "      <td>628421</td>\n",
       "      <td>5922</td>\n",
       "      <td>7603</td>\n",
       "    </tr>\n",
       "    <tr>\n",
       "      <th>23</th>\n",
       "      <td>643194</td>\n",
       "      <td>5088</td>\n",
       "      <td>7761</td>\n",
       "    </tr>\n",
       "    <tr>\n",
       "      <th>24</th>\n",
       "      <td>670741</td>\n",
       "      <td>5151</td>\n",
       "      <td>8037</td>\n",
       "    </tr>\n",
       "    <tr>\n",
       "      <th>25</th>\n",
       "      <td>725619</td>\n",
       "      <td>3442</td>\n",
       "      <td>8574</td>\n",
       "    </tr>\n",
       "    <tr>\n",
       "      <th>26</th>\n",
       "      <td>794540</td>\n",
       "      <td>5659</td>\n",
       "      <td>9220</td>\n",
       "    </tr>\n",
       "    <tr>\n",
       "      <th>27</th>\n",
       "      <td>807859</td>\n",
       "      <td>2874</td>\n",
       "      <td>9331</td>\n",
       "    </tr>\n",
       "    <tr>\n",
       "      <th>28</th>\n",
       "      <td>858184</td>\n",
       "      <td>4475</td>\n",
       "      <td>9795</td>\n",
       "    </tr>\n",
       "    <tr>\n",
       "      <th>29</th>\n",
       "      <td>884339</td>\n",
       "      <td>3422</td>\n",
       "      <td>10096</td>\n",
       "    </tr>\n",
       "  </tbody>\n",
       "</table>\n",
       "</div>"
      ],
      "text/plain": [
       "        ID  Xcor   Ycor\n",
       "0   112180  1826   1596\n",
       "1   150411  5172   1919\n",
       "2   159371  6412   2006\n",
       "3   175660  3590   2174\n",
       "4   208655  3586   2547\n",
       "5   214729  1864   2624\n",
       "6   238668  8398   2856\n",
       "7   271927  5179   3193\n",
       "8   281175  1143   3299\n",
       "9   372885  4819   4542\n",
       "10  388118  7826   4714\n",
       "11  409181  2680   4939\n",
       "12  414465  4667   5001\n",
       "13  415192  2391   5010\n",
       "14  433337  5855   5233\n",
       "15  436587  8728   5270\n",
       "16  440812  6041   5319\n",
       "17  484699  3576   5844\n",
       "18  485924  8895   5856\n",
       "19  518682  7668   6268\n",
       "20  532654  3805   6447\n",
       "21  597735  8051   7248\n",
       "22  628421  5922   7603\n",
       "23  643194  5088   7761\n",
       "24  670741  5151   8037\n",
       "25  725619  3442   8574\n",
       "26  794540  5659   9220\n",
       "27  807859  2874   9331\n",
       "28  858184  4475   9795\n",
       "29  884339  3422  10096"
      ]
     },
     "execution_count": 13,
     "metadata": {},
     "output_type": "execute_result"
    }
   ],
   "source": [
    "file = f'ID_coords_image_{wavelen}.csv'\n",
    "df = pd.read_csv(filepath_results+file)\n",
    "df"
   ]
  },
  {
   "cell_type": "code",
   "execution_count": null,
   "metadata": {},
   "outputs": [
    {
     "name": "stdout",
     "output_type": "stream",
     "text": [
      "Wall time: 0 ns\n"
     ]
    }
   ],
   "source": [
    "%%time\n",
    "\n",
    "\n",
    "get_save_results(wavelen)"
   ]
  },
  {
   "cell_type": "markdown",
   "metadata": {},
   "source": [
    "# Hubble pupil's PSF results"
   ]
  },
  {
   "cell_type": "code",
   "execution_count": null,
   "metadata": {},
   "outputs": [],
   "source": [
    "filepath = '../Results/Hubble/'\n",
    "PSF = np.load(filepath + 'Hubble_pupil.npy')\n",
    "OTF_shift = get_OTF_from_PSF(PSF)"
   ]
  },
  {
   "cell_type": "code",
   "execution_count": null,
   "metadata": {},
   "outputs": [],
   "source": [
    "def star_deconvolution(ID: int, OTF_shift: np.ndarray=OTF_shift) -> np.ndarray:\n",
    "    \"\"\"Compute the Gaussian 2D function of a given star.\n",
    "\n",
    "    Args:\n",
    "        ID (float): star ID;\n",
    "        IDs (np.ndarray, optional): ID of all isolated stars on the\n",
    "                                    image. Defaults to df.to_numpy().\n",
    "        img (np.ndarray, optional): data from fits file.\n",
    "                                    Defaults to image.\n",
    "\n",
    "    Returns:\n",
    "        np.array: star's ID, initial guess for the fitting parameters,\n",
    "                  best fit parameters and mse.\n",
    "    \"\"\"\n",
    "    box = get_star_box(ID)\n",
    "    bb = box.shape[0] // 2\n",
    "    \n",
    "    xc, yc = np.where(PSF==PSF.max())\n",
    "    xc, yc = xc[0], yc[0]\n",
    "    PSF_cut = PSF[yc-bb:yc+bb, xc-bb:xc+bb]\n",
    "    box_fft = np.fft.fft2(box)\n",
    "    \n",
    "    OTF = np.fft.fft2(PSF_cut)\n",
    "    box_fft_shift = np.fft.fftshift(box_fft)\n",
    "    OTF_shift = np.fft.fftshift(OTF)\n",
    "    \n",
    "    real_obj_F = box_fft_shift / OTF_shift\n",
    "    real_obj_shift = np.fft.ifft2(real_obj_F)\n",
    "    real_obj = np.abs(np.fft.ifftshift(real_obj_shift))\n",
    "    mse = mean_squared_error(real_obj, box)\n",
    "    return np.array([ID, mse]) "
   ]
  },
  {
   "cell_type": "code",
   "execution_count": 14,
   "metadata": {},
   "outputs": [],
   "source": [
    "from scipy.optimize import curve_fit\n",
    "\n",
    "def Gaussian1D(x, A, mu, var):\n",
    "    factor = A / np.sqrt(2. * np.pi * var)\n",
    "    return factor * np.exp(- 0.5 * (x - mu) ** 2. / var)"
   ]
  },
  {
   "cell_type": "code",
   "execution_count": 15,
   "metadata": {},
   "outputs": [],
   "source": [
    "def gauss1d_fitting(ID):\n",
    "    from sklearn.metrics import r2_score\n",
    "    box, *_ = get_star_box(ID=ID, norm=False)\n",
    "    xmax, ymax = np.where(box == box.max())\n",
    "    xmax, ymax = xmax[0], ymax[0]\n",
    "    \n",
    "    x_profile = box[ymax, :]\n",
    "    y_profile = box[:, xmax]\n",
    "    \n",
    "    n = box.shape[0]\n",
    "    x = np.arange(n)\n",
    "    try:\n",
    "        popt_x, pcov_x = curve_fit(Gaussian1D, x, x_profile)\n",
    "        popt_y, pcov_y = curve_fit(Gaussian1D, x, y_profile)\n",
    "        \n",
    "        A_x, mu_x, var_x = popt_x\n",
    "        A_y, mu_y, var_y = popt_y\n",
    "        \n",
    "        int_x = Gaussian1D(mu_x, *popt_x)\n",
    "        int_y = Gaussian1D(mu_y, *popt_y)\n",
    "        \n",
    "        x_expected = Gaussian1D(x, *popt_x)\n",
    "        y_expected = Gaussian1D(x, *popt_y)\n",
    "        \n",
    "        r2_x = r2_score(x_profile, x_expected)\n",
    "        r2_y = r2_score(y_profile, y_expected)\n",
    "        \n",
    "        return np.array([ID, int_x, int_y, var_x, var_y, r2_x, r2_y])\n",
    "    except:\n",
    "        return np.array([ID] + [np.nan] * 6)"
   ]
  },
  {
   "cell_type": "code",
   "execution_count": 38,
   "metadata": {},
   "outputs": [],
   "source": [
    "from utils import latex_settings\n",
    "import matplotlib.pyplot as plt\n",
    "\n",
    "def gauss1d_plot(ID):\n",
    "    \n",
    "    box, *_ = get_star_box(ID=ID, norm=False)\n",
    "\n",
    "    xmax, ymax = np.where(box == box.max())\n",
    "    xmax, ymax = xmax[0], ymax[0]\n",
    "\n",
    "\n",
    "    x_profile = box[ymax, :]\n",
    "    y_profile = box[:, xmax]\n",
    "\n",
    "    n = box.shape[0]\n",
    "    x = np.arange(n)\n",
    "\n",
    "    fig, axs = latex_settings(1, 2)\n",
    "    \n",
    "    popt_x, pcov_x = curve_fit(Gaussian1D, x, x_profile)\n",
    "    popt_y, pcov_y = curve_fit(Gaussian1D, x, y_profile)\n",
    "    x_expected = Gaussian1D(x, *popt_x)\n",
    "    y_expected = Gaussian1D(x, *popt_y)\n",
    "    \n",
    "    axs[0].plot(x_profile, 'b')\n",
    "    axs[0].plot(Gaussian1D(x, *popt_x), '--r')\n",
    "    axs[1].plot(y_profile, 'b', label='data')\n",
    "    axs[1].plot(Gaussian1D(x, *popt_y), '--r', label='fit')\n",
    "    axs[0].set_xlabel('X-axis position [pixels]')\n",
    "    axs[1].set_xlabel('Y-axis position [pixels]')\n",
    "    axs[0].set_ylabel('Intensity [ADU]')\n",
    "    axs[1].legend()\n",
    "\n",
    "    fig.suptitle('Gaussian fit', fontsize=15)\n",
    "    \n",
    "    plt.savefig('Gaussian1d_fit_samples.png', dpi=800, transparent=1)\n",
    "    \n",
    "    return x_profile, y_profile, x_expected, y_expected"
   ]
  },
  {
   "cell_type": "code",
   "execution_count": 39,
   "metadata": {},
   "outputs": [
    {
     "name": "stderr",
     "output_type": "stream",
     "text": [
      "<ipython-input-14-c888073bbc32>:4: RuntimeWarning: invalid value encountered in sqrt\n",
      "  factor = A / np.sqrt(2. * np.pi * var)\n"
     ]
    },
    {
     "data": {
      "image/png": "[encoded data removed]",
      "text/plain": [
       "<Figure size 388.543x240.133 with 2 Axes>"
      ]
     },
     "metadata": {
      "needs_background": "light"
     },
     "output_type": "display_data"
    }
   ],
   "source": [
    "gauss1d_plot(516284)"
   ]
  },
  {
   "cell_type": "code",
   "execution_count": null,
   "metadata": {},
   "outputs": [
    {
     "data": {
      "text/plain": [
       "<matplotlib.lines.Line2D at 0x2660e7bd970>"
      ]
     },
     "execution_count": 72,
     "metadata": {},
     "output_type": "execute_result"
    },
    {
     "data": {
      "image/png": "[encoded data removed]",
      "text/plain": [
       "<Figure size 388.543x240.133 with 1 Axes>"
      ]
     },
     "metadata": {
      "needs_background": "light"
     },
     "output_type": "display_data"
    }
   ],
   "source": [
    "fig, ax = latex_settings()\n",
    "\n",
    "ax.imshow(box)\n",
    "ax.axvline(xmax, ls='--', c='r')\n",
    "ax.axhline(ymax, ls='--', c='r')"
   ]
  },
  {
   "cell_type": "code",
   "execution_count": 41,
   "metadata": {},
   "outputs": [
    {
     "ename": "FileNotFoundError",
     "evalue": "[Errno 2] No such file or directory: '../Images/Box/F606w/box_877075.png'",
     "output_type": "error",
     "traceback": [
      "\u001b[1;31m---------------------------------------------------------------------------\u001b[0m",
      "\u001b[1;31mFileNotFoundError\u001b[0m                         Traceback (most recent call last)",
      "\u001b[1;32m<ipython-input-41-ebd4c1ddd8b7>\u001b[0m in \u001b[0;36m<module>\u001b[1;34m\u001b[0m\n\u001b[0;32m      5\u001b[0m \u001b[1;33m\u001b[0m\u001b[0m\n\u001b[0;32m      6\u001b[0m \u001b[0mID\u001b[0m \u001b[1;33m=\u001b[0m \u001b[1;36m877075\u001b[0m\u001b[1;33m\u001b[0m\u001b[1;33m\u001b[0m\u001b[0m\n\u001b[1;32m----> 7\u001b[1;33m \u001b[0mimage\u001b[0m \u001b[1;33m=\u001b[0m \u001b[0mmpimg\u001b[0m\u001b[1;33m.\u001b[0m\u001b[0mimread\u001b[0m\u001b[1;33m(\u001b[0m\u001b[0mfilepath_images_box\u001b[0m \u001b[1;33m+\u001b[0m \u001b[1;34mf\"box_{ID}.png\"\u001b[0m\u001b[1;33m)\u001b[0m\u001b[1;33m\u001b[0m\u001b[1;33m\u001b[0m\u001b[0m\n\u001b[0m\u001b[0;32m      8\u001b[0m \u001b[0mplt\u001b[0m\u001b[1;33m.\u001b[0m\u001b[0mimshow\u001b[0m\u001b[1;33m(\u001b[0m\u001b[0mimage\u001b[0m\u001b[1;33m)\u001b[0m\u001b[1;33m\u001b[0m\u001b[1;33m\u001b[0m\u001b[0m\n",
      "\u001b[1;32mc:\\Users\\manue\\AppData\\Local\\Programs\\Python\\Python39\\lib\\site-packages\\matplotlib\\image.py\u001b[0m in \u001b[0;36mimread\u001b[1;34m(fname, format)\u001b[0m\n\u001b[0;32m   1499\u001b[0m                     \u001b[0mresponse\u001b[0m \u001b[1;33m=\u001b[0m \u001b[0mio\u001b[0m\u001b[1;33m.\u001b[0m\u001b[0mBytesIO\u001b[0m\u001b[1;33m(\u001b[0m\u001b[0mresponse\u001b[0m\u001b[1;33m.\u001b[0m\u001b[0mread\u001b[0m\u001b[1;33m(\u001b[0m\u001b[1;33m)\u001b[0m\u001b[1;33m)\u001b[0m\u001b[1;33m\u001b[0m\u001b[1;33m\u001b[0m\u001b[0m\n\u001b[0;32m   1500\u001b[0m                 \u001b[1;32mreturn\u001b[0m \u001b[0mimread\u001b[0m\u001b[1;33m(\u001b[0m\u001b[0mresponse\u001b[0m\u001b[1;33m,\u001b[0m \u001b[0mformat\u001b[0m\u001b[1;33m=\u001b[0m\u001b[0mext\u001b[0m\u001b[1;33m)\u001b[0m\u001b[1;33m\u001b[0m\u001b[1;33m\u001b[0m\u001b[0m\n\u001b[1;32m-> 1501\u001b[1;33m     \u001b[1;32mwith\u001b[0m \u001b[0mimg_open\u001b[0m\u001b[1;33m(\u001b[0m\u001b[0mfname\u001b[0m\u001b[1;33m)\u001b[0m \u001b[1;32mas\u001b[0m \u001b[0mimage\u001b[0m\u001b[1;33m:\u001b[0m\u001b[1;33m\u001b[0m\u001b[1;33m\u001b[0m\u001b[0m\n\u001b[0m\u001b[0;32m   1502\u001b[0m         return (_pil_png_to_float_array(image)\n\u001b[0;32m   1503\u001b[0m                 \u001b[1;32mif\u001b[0m \u001b[0misinstance\u001b[0m\u001b[1;33m(\u001b[0m\u001b[0mimage\u001b[0m\u001b[1;33m,\u001b[0m \u001b[0mPIL\u001b[0m\u001b[1;33m.\u001b[0m\u001b[0mPngImagePlugin\u001b[0m\u001b[1;33m.\u001b[0m\u001b[0mPngImageFile\u001b[0m\u001b[1;33m)\u001b[0m \u001b[1;32melse\u001b[0m\u001b[1;33m\u001b[0m\u001b[1;33m\u001b[0m\u001b[0m\n",
      "\u001b[1;32mc:\\Users\\manue\\AppData\\Local\\Programs\\Python\\Python39\\lib\\site-packages\\PIL\\ImageFile.py\u001b[0m in \u001b[0;36m__init__\u001b[1;34m(self, fp, filename)\u001b[0m\n\u001b[0;32m    102\u001b[0m         \u001b[1;32mif\u001b[0m \u001b[0misPath\u001b[0m\u001b[1;33m(\u001b[0m\u001b[0mfp\u001b[0m\u001b[1;33m)\u001b[0m\u001b[1;33m:\u001b[0m\u001b[1;33m\u001b[0m\u001b[1;33m\u001b[0m\u001b[0m\n\u001b[0;32m    103\u001b[0m             \u001b[1;31m# filename\u001b[0m\u001b[1;33m\u001b[0m\u001b[1;33m\u001b[0m\u001b[1;33m\u001b[0m\u001b[0m\n\u001b[1;32m--> 104\u001b[1;33m             \u001b[0mself\u001b[0m\u001b[1;33m.\u001b[0m\u001b[0mfp\u001b[0m \u001b[1;33m=\u001b[0m \u001b[0mopen\u001b[0m\u001b[1;33m(\u001b[0m\u001b[0mfp\u001b[0m\u001b[1;33m,\u001b[0m \u001b[1;34m\"rb\"\u001b[0m\u001b[1;33m)\u001b[0m\u001b[1;33m\u001b[0m\u001b[1;33m\u001b[0m\u001b[0m\n\u001b[0m\u001b[0;32m    105\u001b[0m             \u001b[0mself\u001b[0m\u001b[1;33m.\u001b[0m\u001b[0mfilename\u001b[0m \u001b[1;33m=\u001b[0m \u001b[0mfp\u001b[0m\u001b[1;33m\u001b[0m\u001b[1;33m\u001b[0m\u001b[0m\n\u001b[0;32m    106\u001b[0m             \u001b[0mself\u001b[0m\u001b[1;33m.\u001b[0m\u001b[0m_exclusive_fp\u001b[0m \u001b[1;33m=\u001b[0m \u001b[1;32mTrue\u001b[0m\u001b[1;33m\u001b[0m\u001b[1;33m\u001b[0m\u001b[0m\n",
      "\u001b[1;31mFileNotFoundError\u001b[0m: [Errno 2] No such file or directory: '../Images/Box/F606w/box_877075.png'"
     ]
    }
   ],
   "source": [
    "filepath_images_box = '../Images/Box/F606w/'\n",
    "\n",
    "import matplotlib.pyplot as plt\n",
    "import matplotlib.image as mpimg\n",
    "\n",
    "ID = 877075\n",
    "image = mpimg.imread(filepath_images_box + f\"box_{ID}.png\")\n",
    "plt.imshow(image)"
   ]
  },
  {
   "cell_type": "code",
   "execution_count": 42,
   "metadata": {},
   "outputs": [
    {
     "data": {
      "text/plain": [
       "<matplotlib.image.AxesImage at 0x1483e3ff310>"
      ]
     },
     "execution_count": 42,
     "metadata": {},
     "output_type": "execute_result"
    },
    {
     "data": {
      "image/png": "[encoded data removed]",
      "text/plain": [
       "<Figure size 388.543x240.133 with 1 Axes>"
      ]
     },
     "metadata": {
      "needs_background": "light"
     },
     "output_type": "display_data"
    }
   ],
   "source": [
    "filepath_images_fit = '../Images/Fit/F606w/'\n",
    "\n",
    "import matplotlib.pyplot as plt\n",
    "import matplotlib.image as mpimg\n",
    "\n",
    "ID = 877075\n",
    "image = mpimg.imread(filepath_images_fit + f\"fit_{ID}.png\")\n",
    "plt.imshow(image)"
   ]
  },
  {
   "cell_type": "code",
   "execution_count": null,
   "metadata": {},
   "outputs": [],
   "source": []
  }
 ],
 "metadata": {
  "interpreter": {
   "hash": "f82d8aa1d32f262b9aea91e58c88a8ce47b2158aaae51ffe5d7b2712c7d31316"
  },
  "kernelspec": {
   "display_name": "Python 3.9.5 64-bit",
   "language": "python",
   "name": "python3"
  },
  "language_info": {
   "codemirror_mode": {
    "name": "ipython",
    "version": 3
   },
   "file_extension": ".py",
   "mimetype": "text/x-python",
   "name": "python",
   "nbconvert_exporter": "python",
   "pygments_lexer": "ipython3",
   "version": "3.9.5"
  },
  "orig_nbformat": 4
 },
 "nbformat": 4,
 "nbformat_minor": 2
}
